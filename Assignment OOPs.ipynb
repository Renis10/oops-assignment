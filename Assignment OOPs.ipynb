{
 "cells": [
  {
   "cell_type": "markdown",
   "id": "4e33ff5a-ae76-47bb-afdf-6bceb45b66fb",
   "metadata": {},
   "source": [
    "# Assignment OOPs"
   ]
  },
  {
   "cell_type": "markdown",
   "id": "f6c67916-7bce-4492-80b9-83c818a4822c",
   "metadata": {},
   "source": [
    "## Python OOPs Questions"
   ]
  },
  {
   "cell_type": "code",
   "execution_count": 4,
   "id": "7b403bca-39ad-48dd-9304-f947e5c16a01",
   "metadata": {},
   "outputs": [
    {
     "data": {
      "text/plain": [
       "'\\n What is Object-Oriented Programming (OOP)+\\n What is a class in OOP+\\n What is an object in OOP+\\n What is the difference between abstraction and encapsulation+\\n What are dunder methods in Python+\\n Explain the concept of inheritance in OOPH\\n What is polymorphism in OOP+\\n How is encapsulation achieved in Python+\\n What is a constructor in Python+\\n What are class and static methods in Python+\\n What is method overloading in Python+\\n What is method overriding in OOP+\\n What is a property decorator in Python+\\n Why is polymorphism important in OOP+\\n What is an abstract class in Python+\\n What are the advantages of OOP+\\n What is the difference between a class variable and an instance variable+\\n What is multiple inheritance in Python+\\n Explain the purpose of ‘’__str__’ and ‘__repr__’ ‘ methods in PythonH\\n What is the significance of the ‘super()’ function in Python+\\n What is the significance of the __del__ method in Python+\\n What is the difference between @staticmethod and @classmethod in Python+\\n How does polymorphism work in Python with inheritance+\\n What is method chaining in Python OOP+\\n What is the purpose of the __call__ method in Python?\\n \\n'"
      ]
     },
     "execution_count": 4,
     "metadata": {},
     "output_type": "execute_result"
    }
   ],
   "source": [
    "'''\n",
    " What is Object-Oriented Programming (OOP)+\n",
    " What is a class in OOP+\n",
    " What is an object in OOP+\n",
    " What is the difference between abstraction and encapsulation+\n",
    " What are dunder methods in Python+\n",
    " Explain the concept of inheritance in OOPH\n",
    " What is polymorphism in OOP+\n",
    " How is encapsulation achieved in Python+\n",
    " What is a constructor in Python+\n",
    " What are class and static methods in Python+\n",
    " What is method overloading in Python+\n",
    " What is method overriding in OOP+\n",
    " What is a property decorator in Python+\n",
    " Why is polymorphism important in OOP+\n",
    " What is an abstract class in Python+\n",
    " What are the advantages of OOP+\n",
    " What is the difference between a class variable and an instance variable+\n",
    " What is multiple inheritance in Python+\n",
    " Explain the purpose of ‘’__str__’ and ‘__repr__’ ‘ methods in PythonH\n",
    " What is the significance of the ‘super()’ function in Python+\n",
    " What is the significance of the __del__ method in Python+\n",
    " What is the difference between @staticmethod and @classmethod in Python+\n",
    " How does polymorphism work in Python with inheritance+\n",
    " What is method chaining in Python OOP+\n",
    " What is the purpose of the __call__ method in Python?\n",
    " \n",
    "'''"
   ]
  },
  {
   "cell_type": "code",
   "execution_count": 6,
   "id": "55822956-ce5a-4e30-aa9d-28bcffde8c65",
   "metadata": {},
   "outputs": [
    {
     "data": {
      "text/plain": [
       "'\\n1. OOP is a programming paradigm based on the concept of objects, which bundle data (attributes) and functions (methods) together. It promotes reusability, modularity, and better code organization.\\n\\n2. A class is a blueprint or template for creating objects. It defines attributes (variables) and methods (functions) that its objects will have.\\n\\n3. An object is an instance of a class.\\n\\n4. Abstraction → Hiding implementation details, showing only essential features. (Focus: what)\\n   Encapsulation → Wrapping data and methods together, restricting direct access. (Focus: how)\\n\\n5. “Dunder” = double underscore. These are special methods like __init__, __str__, __len__. They define object behavior with operators/functions.\\n\\n6. Inheritance allows one class (child/subclass) to derive properties and methods from another (parent/base class) → promotes reusability.\\n\\n7. Polymorphism = \"many forms.\"\\nIt allows methods/operators to have different implementations depending on the object type (e.g., len() works for lists, strings, dicts).\\n\\n\\n8. By using access modifiers:\\n\\nPublic → var\\n\\nProtected → _var\\n\\nPrivate → __var\\n\\n\\n9. The __init__ method is called when an object is created. It initializes object attributes.\\n\\n10. Class method → Declared with @classmethod, takes cls, works with class-level data.\\n\\nStatic method → Declared with @staticmethod, no self/cls, acts like a normal function inside a class.\\n\\n11. Python doesn’t support true overloading (like Java). Instead, you can use default arguments or *args, **kwargs to simulate it.\\n\\n12. When a child class provides a different implementation of a method that exists in the parent class.\\n\\n13. @property makes a method behave like an attribute. Used to implement getters/setters cleanly.\\n\\n14. It makes code flexible and extensible, allowing different classes to be used interchangeably with a common interface.\\n\\n15. A class that cannot be instantiated, defined using abc module. It can have abstract methods (declared but not implemented).ipynb_checkpoints/\\n\\n16. Modularity\\n\\nCode reusability\\n\\nScalability\\n\\nEncapsulation for security\\n\\nEasier maintenance\\n\\n17. Class variable → Shared across all objects (defined inside class, outside methods).\\n\\nInstance variable → Unique to each object (defined inside __init__).\\n\\n18. A class can inherit from more than one parent class.\\n\\n19. __str__ → Human-readable string (used by print()).\\n\\n__repr__ → Developer/debug representation, ideally unambiguous.\\n\\n20. super() is used to call methods of the parent class. Commonly used in constructors to extend base class functionality.\\n\\n21. Destructor method, called when an object is garbage collected. Rarely used, as Python has automatic memory management.\\n\\n22. @staticmethod → Independent utility function, no access to class/object.\\n\\n@classmethod → Works with class state (cls) and can modify class-level attributes.\\n\\n23. Subclass can override a parent method → Same method name, different behavior depending on object type.\\n\\n24. Calling multiple methods on the same object in one line, usually by returning self from methods.\\n\\n\\n\\n'"
      ]
     },
     "execution_count": 6,
     "metadata": {},
     "output_type": "execute_result"
    }
   ],
   "source": [
    "'''\n",
    "1. OOP is a programming paradigm based on the concept of objects, which bundle data (attributes) and functions (methods) together. It promotes reusability, modularity, and better code organization.\n",
    "\n",
    "2. A class is a blueprint or template for creating objects. It defines attributes (variables) and methods (functions) that its objects will have.\n",
    "\n",
    "3. An object is an instance of a class.\n",
    "\n",
    "4. Abstraction → Hiding implementation details, showing only essential features. (Focus: what)\n",
    "   Encapsulation → Wrapping data and methods together, restricting direct access. (Focus: how)\n",
    "\n",
    "5. “Dunder” = double underscore. These are special methods like __init__, __str__, __len__. They define object behavior with operators/functions.\n",
    "\n",
    "6. Inheritance allows one class (child/subclass) to derive properties and methods from another (parent/base class) → promotes reusability.\n",
    "\n",
    "7. Polymorphism = \"many forms.\"\n",
    "It allows methods/operators to have different implementations depending on the object type (e.g., len() works for lists, strings, dicts).\n",
    "\n",
    "\n",
    "8. By using access modifiers:\n",
    "\n",
    "Public → var\n",
    "\n",
    "Protected → _var\n",
    "\n",
    "Private → __var\n",
    "\n",
    "\n",
    "9. The __init__ method is called when an object is created. It initializes object attributes.\n",
    "\n",
    "10. Class method → Declared with @classmethod, takes cls, works with class-level data.\n",
    "\n",
    "Static method → Declared with @staticmethod, no self/cls, acts like a normal function inside a class.\n",
    "\n",
    "11. Python doesn’t support true overloading (like Java). Instead, you can use default arguments or *args, **kwargs to simulate it.\n",
    "\n",
    "12. When a child class provides a different implementation of a method that exists in the parent class.\n",
    "\n",
    "13. @property makes a method behave like an attribute. Used to implement getters/setters cleanly.\n",
    "\n",
    "14. It makes code flexible and extensible, allowing different classes to be used interchangeably with a common interface.\n",
    "\n",
    "15. A class that cannot be instantiated, defined using abc module. It can have abstract methods (declared but not implemented).ipynb_checkpoints/\n",
    "\n",
    "16. Modularity\n",
    "\n",
    "Code reusability\n",
    "\n",
    "Scalability\n",
    "\n",
    "Encapsulation for security\n",
    "\n",
    "Easier maintenance\n",
    "\n",
    "17. Class variable → Shared across all objects (defined inside class, outside methods).\n",
    "\n",
    "Instance variable → Unique to each object (defined inside __init__).\n",
    "\n",
    "18. A class can inherit from more than one parent class.\n",
    "\n",
    "19. __str__ → Human-readable string (used by print()).\n",
    "\n",
    "__repr__ → Developer/debug representation, ideally unambiguous.\n",
    "\n",
    "20. super() is used to call methods of the parent class. Commonly used in constructors to extend base class functionality.\n",
    "\n",
    "21. Destructor method, called when an object is garbage collected. Rarely used, as Python has automatic memory management.\n",
    "\n",
    "22. @staticmethod → Independent utility function, no access to class/object.\n",
    "\n",
    "@classmethod → Works with class state (cls) and can modify class-level attributes.\n",
    "\n",
    "23. Subclass can override a parent method → Same method name, different behavior depending on object type.\n",
    "\n",
    "24. Calling multiple methods on the same object in one line, usually by returning self from methods.\n",
    "\n",
    "\n",
    "\n",
    "'''\n"
   ]
  },
  {
   "cell_type": "markdown",
   "id": "1f9de64b-214b-4897-9c70-0e3a02645b80",
   "metadata": {},
   "source": [
    "# Practical Questions"
   ]
  },
  {
   "cell_type": "code",
   "execution_count": 9,
   "id": "11c8dfd2-be68-4cfe-8714-3dd312014192",
   "metadata": {},
   "outputs": [
    {
     "data": {
      "text/plain": [
       "'\\n1. Create a parent class Animal with a method speak() that prints a generic message. Create a child class Dog\\nthat overrides the speak() method to print \"Bark!\".\\n\\n\\n2. Write a program to create an abstract class Shape with a method area(). Derive classes Circle and Rectangle\\nfrom it and implement the area() method in both.\\n\\n\\n3. Implement a multi-level inheritance scenario where a class Vehicle has an attribute type. Derive a class Car\\nand further derive a class ElectricCar that adds a battery attribute.\\n\\n\\n4. Demonstrate polymorphism by creating a base class Bird with a method fly(). Create two derived classes\\nSparrow and Penguin that override the fly() method.\\n\\n\\n5. Write a program to demonstrate encapsulation by creating a class BankAccount with private attributes\\nbalance and methods to deposit, withdraw, and check balance.\\n\\n\\n6. Demonstrate runtime polymorphism using a method play() in a base class Instrument. Derive classes Guitar\\nand Piano that implement their own version of play().\\n\\n\\n7. Create a class MathOperations with a class method add_numbers() to add two numbers and a static\\nmethod subtract_numbers() to subtract two numbers.\\n\\n\\n8. Implement a class Person with a class method to count the total number of persons created.\\n\\n\\n9. Write a class Fraction with attributes numerator and denominator. Override the str method to display the\\nfraction as \"numerator/denominator\".\\n\\n\\n10. Demonstrate operator overloading by creating a class Vector and overriding the add method to add two\\nvectors.\\n\\n\\n11. Create a class Person with attributes name and age. Add a method greet() that prints \"Hello, my name is\\n{name} and I am {age} years old.\"\\n\\n\\n12. Implement a class Student with attributes name and grades. Create a method average_grade() to compute\\nthe average of the grades.\\n\\n\\n13. Create a class Rectangle with methods set_dimensions() to set the dimensions and area() to calculate the\\narea.\\n\\n\\n14. Create a class Employee with a method calculate_salary() that computes the salary based on hours worked\\nand hourly rate. Create a derived class Manager that adds a bonus to the salary.\\n\\n15. Create a class Product with attributes name, price, and quantity. Implement a method total_price() that\\ncalculates the total price of the product.\\n\\n\\n16. Create a class Animal with an abstract method sound(). Create two derived classes Cow and Sheep that\\nimplement the sound() method.\\n\\n\\n17. Create a class Book with attributes title, author, and year_published. Add a method get_book_info() that\\nreturns a formatted string with the book\\'s details.\\n\\n\\n18. Create a class House with attributes address and price. Create a derived class Mansion that adds an\\nattribute number_of_rooms.\\n\\n'"
      ]
     },
     "execution_count": 9,
     "metadata": {},
     "output_type": "execute_result"
    }
   ],
   "source": [
    "'''\n",
    "1. Create a parent class Animal with a method speak() that prints a generic message. Create a child class Dog\n",
    "that overrides the speak() method to print \"Bark!\".\n",
    "\n",
    "\n",
    "2. Write a program to create an abstract class Shape with a method area(). Derive classes Circle and Rectangle\n",
    "from it and implement the area() method in both.\n",
    "\n",
    "\n",
    "3. Implement a multi-level inheritance scenario where a class Vehicle has an attribute type. Derive a class Car\n",
    "and further derive a class ElectricCar that adds a battery attribute.\n",
    "\n",
    "\n",
    "4. Demonstrate polymorphism by creating a base class Bird with a method fly(). Create two derived classes\n",
    "Sparrow and Penguin that override the fly() method.\n",
    "\n",
    "\n",
    "5. Write a program to demonstrate encapsulation by creating a class BankAccount with private attributes\n",
    "balance and methods to deposit, withdraw, and check balance.\n",
    "\n",
    "\n",
    "6. Demonstrate runtime polymorphism using a method play() in a base class Instrument. Derive classes Guitar\n",
    "and Piano that implement their own version of play().\n",
    "\n",
    "\n",
    "7. Create a class MathOperations with a class method add_numbers() to add two numbers and a static\n",
    "method subtract_numbers() to subtract two numbers.\n",
    "\n",
    "\n",
    "8. Implement a class Person with a class method to count the total number of persons created.\n",
    "\n",
    "\n",
    "9. Write a class Fraction with attributes numerator and denominator. Override the str method to display the\n",
    "fraction as \"numerator/denominator\".\n",
    "\n",
    "\n",
    "10. Demonstrate operator overloading by creating a class Vector and overriding the add method to add two\n",
    "vectors.\n",
    "\n",
    "\n",
    "11. Create a class Person with attributes name and age. Add a method greet() that prints \"Hello, my name is\n",
    "{name} and I am {age} years old.\"\n",
    "\n",
    "\n",
    "12. Implement a class Student with attributes name and grades. Create a method average_grade() to compute\n",
    "the average of the grades.\n",
    "\n",
    "\n",
    "13. Create a class Rectangle with methods set_dimensions() to set the dimensions and area() to calculate the\n",
    "area.\n",
    "\n",
    "\n",
    "14. Create a class Employee with a method calculate_salary() that computes the salary based on hours worked\n",
    "and hourly rate. Create a derived class Manager that adds a bonus to the salary.\n",
    "\n",
    "15. Create a class Product with attributes name, price, and quantity. Implement a method total_price() that\n",
    "calculates the total price of the product.\n",
    "\n",
    "\n",
    "16. Create a class Animal with an abstract method sound(). Create two derived classes Cow and Sheep that\n",
    "implement the sound() method.\n",
    "\n",
    "\n",
    "17. Create a class Book with attributes title, author, and year_published. Add a method get_book_info() that\n",
    "returns a formatted string with the book's details.\n",
    "\n",
    "\n",
    "18. Create a class House with attributes address and price. Create a derived class Mansion that adds an\n",
    "attribute number_of_rooms.\n",
    "\n",
    "'''"
   ]
  },
  {
   "cell_type": "code",
   "execution_count": 11,
   "id": "48d6111f-6ef5-4e3d-9524-dcbbf7f413d7",
   "metadata": {},
   "outputs": [
    {
     "name": "stdout",
     "output_type": "stream",
     "text": [
      "Bark!\n"
     ]
    }
   ],
   "source": [
    "#1. \n",
    "\n",
    "class Animal:\n",
    "    def speak(self):\n",
    "        print(\"This is a generic animal sound.\")\n",
    "\n",
    "class Dog(Animal):\n",
    "    def speak(self):\n",
    "        print(\"Bark!\")\n",
    "\n",
    "dog = Dog()\n",
    "dog.speak()\n"
   ]
  },
  {
   "cell_type": "code",
   "execution_count": 13,
   "id": "a44ac4f9-2f43-4e61-a370-9e8d41aa68ff",
   "metadata": {},
   "outputs": [
    {
     "name": "stdout",
     "output_type": "stream",
     "text": [
      "Circle Area: 78.53981633974483\n",
      "Rectangle Area: 24\n"
     ]
    }
   ],
   "source": [
    "#2 \n",
    "\n",
    "from abc import ABC, abstractmethod\n",
    "import math\n",
    "\n",
    "class Shape(ABC):\n",
    "    @abstractmethod\n",
    "    def area(self):\n",
    "        pass\n",
    "\n",
    "class Circle(Shape):\n",
    "    def __init__(self, radius):\n",
    "        self.radius = radius\n",
    "\n",
    "    def area(self):\n",
    "        return math.pi * self.radius ** 2\n",
    "\n",
    "class Rectangle(Shape):\n",
    "    def __init__(self, width, height):\n",
    "        self.width = width\n",
    "        self.height = height\n",
    "\n",
    "    def area(self):\n",
    "        return self.width * self.height\n",
    "\n",
    "circle = Circle(5)\n",
    "rect = Rectangle(4, 6)\n",
    "print(\"Circle Area:\", circle.area())\n",
    "print(\"Rectangle Area:\", rect.area())\n"
   ]
  },
  {
   "cell_type": "code",
   "execution_count": 15,
   "id": "9f1d7300-7419-4cfb-8472-f4b349e0a94f",
   "metadata": {},
   "outputs": [
    {
     "name": "stdout",
     "output_type": "stream",
     "text": [
      "Car Tesla 100 kWh\n"
     ]
    }
   ],
   "source": [
    "#3 \n",
    "\n",
    "class Vehicle:\n",
    "    def __init__(self, v_type):\n",
    "        self.type = v_type\n",
    "\n",
    "class Car(Vehicle):\n",
    "    def __init__(self, brand, v_type=\"Car\"):\n",
    "        super().__init__(v_type)\n",
    "        self.brand = brand\n",
    "\n",
    "class ElectricCar(Car):\n",
    "    def __init__(self, brand, battery):\n",
    "        super().__init__(brand)\n",
    "        self.battery = battery\n",
    "\n",
    "tesla = ElectricCar(\"Tesla\", \"100 kWh\")\n",
    "print(tesla.type, tesla.brand, tesla.battery)\n"
   ]
  },
  {
   "cell_type": "code",
   "execution_count": 17,
   "id": "9bb6c34b-8f02-4ae4-b665-f7f4d6c29ea2",
   "metadata": {},
   "outputs": [
    {
     "name": "stdout",
     "output_type": "stream",
     "text": [
      "Sparrow flies high!\n",
      "Penguins cannot fly.\n"
     ]
    }
   ],
   "source": [
    "#4\n",
    "\n",
    "class Bird:\n",
    "    def fly(self):\n",
    "        print(\"Birds can usually fly.\")\n",
    "\n",
    "class Sparrow(Bird):\n",
    "    def fly(self):\n",
    "        print(\"Sparrow flies high!\")\n",
    "\n",
    "class Penguin(Bird):\n",
    "    def fly(self):\n",
    "        print(\"Penguins cannot fly.\")\n",
    "\n",
    "birds = [Sparrow(), Penguin()]\n",
    "for b in birds:\n",
    "    b.fly()\n"
   ]
  },
  {
   "cell_type": "code",
   "execution_count": 19,
   "id": "de38bd86-089c-4cc2-86dd-0c8e108cf2b8",
   "metadata": {},
   "outputs": [
    {
     "name": "stdout",
     "output_type": "stream",
     "text": [
      "Balance: 300\n"
     ]
    }
   ],
   "source": [
    "#5\n",
    "\n",
    "class BankAccount:\n",
    "    def __init__(self, balance=0):\n",
    "        self.__balance = balance\n",
    "\n",
    "    def deposit(self, amount):\n",
    "        self.__balance += amount\n",
    "\n",
    "    def withdraw(self, amount):\n",
    "        if amount <= self.__balance:\n",
    "            self.__balance -= amount\n",
    "        else:\n",
    "            print(\"Insufficient balance\")\n",
    "\n",
    "    def get_balance(self):\n",
    "        return self.__balance\n",
    "\n",
    "account = BankAccount()\n",
    "account.deposit(500)\n",
    "account.withdraw(200)\n",
    "print(\"Balance:\", account.get_balance())\n"
   ]
  },
  {
   "cell_type": "code",
   "execution_count": 21,
   "id": "b3457771-48d6-496f-98e9-973d469edd9b",
   "metadata": {},
   "outputs": [
    {
     "name": "stdout",
     "output_type": "stream",
     "text": [
      "Strumming the guitar.\n",
      "Playing the piano.\n"
     ]
    }
   ],
   "source": [
    "#6 \n",
    "class Instrument:\n",
    "    def play(self):\n",
    "        print(\"Instrument is playing.\")\n",
    "\n",
    "class Guitar(Instrument):\n",
    "    def play(self):\n",
    "        print(\"Strumming the guitar.\")\n",
    "\n",
    "class Piano(Instrument):\n",
    "    def play(self):\n",
    "        print(\"Playing the piano.\")\n",
    "\n",
    "instruments = [Guitar(), Piano()]\n",
    "for inst in instruments:\n",
    "    inst.play()\n"
   ]
  },
  {
   "cell_type": "code",
   "execution_count": 23,
   "id": "7a9e7a56-3d3a-4a23-b861-0eff26b86c4b",
   "metadata": {},
   "outputs": [
    {
     "name": "stdout",
     "output_type": "stream",
     "text": [
      "15\n",
      "5\n"
     ]
    }
   ],
   "source": [
    "#7 \n",
    "class MathOperations:\n",
    "    @classmethod\n",
    "    def add_numbers(cls, a, b):\n",
    "        return a + b\n",
    "\n",
    "    @staticmethod\n",
    "    def subtract_numbers(a, b):\n",
    "        return a - b\n",
    "\n",
    "print(MathOperations.add_numbers(10, 5))\n",
    "print(MathOperations.subtract_numbers(10, 5))\n"
   ]
  },
  {
   "cell_type": "code",
   "execution_count": 25,
   "id": "04d3761b-80fc-408f-bcc9-d161361c1450",
   "metadata": {},
   "outputs": [
    {
     "name": "stdout",
     "output_type": "stream",
     "text": [
      "Total Persons: 2\n"
     ]
    }
   ],
   "source": [
    "#8 \n",
    "\n",
    "class Person:\n",
    "    count = 0\n",
    "\n",
    "    def __init__(self, name):\n",
    "        self.name = name\n",
    "        Person.count += 1\n",
    "\n",
    "    @classmethod\n",
    "    def total_persons(cls):\n",
    "        return cls.count\n",
    "\n",
    "p1 = Person(\"Alice\")\n",
    "p2 = Person(\"Bob\")\n",
    "print(\"Total Persons:\", Person.total_persons())\n"
   ]
  },
  {
   "cell_type": "code",
   "execution_count": 27,
   "id": "5b13df37-c7eb-48cb-9001-414e89f8e2a2",
   "metadata": {},
   "outputs": [
    {
     "name": "stdout",
     "output_type": "stream",
     "text": [
      "3/4\n"
     ]
    }
   ],
   "source": [
    "#9 \n",
    "class Fraction:\n",
    "    def __init__(self, numerator, denominator):\n",
    "        self.numerator = numerator\n",
    "        self.denominator = denominator\n",
    "\n",
    "    def __str__(self):\n",
    "        return f\"{self.numerator}/{self.denominator}\"\n",
    "\n",
    "f = Fraction(3, 4)\n",
    "print(f)\n"
   ]
  },
  {
   "cell_type": "code",
   "execution_count": 29,
   "id": "40c26e3d-d64f-4b41-8b91-f99cfc9f9bf9",
   "metadata": {},
   "outputs": [
    {
     "name": "stdout",
     "output_type": "stream",
     "text": [
      "(6, 8)\n"
     ]
    }
   ],
   "source": [
    "#10 \n",
    "\n",
    "class Vector:\n",
    "    def __init__(self, x, y):\n",
    "        self.x = x\n",
    "        self.y = y\n",
    "\n",
    "    def __add__(self, other):\n",
    "        return Vector(self.x + other.x, self.y + other.y)\n",
    "\n",
    "    def __str__(self):\n",
    "        return f\"({self.x}, {self.y})\"\n",
    "\n",
    "v1 = Vector(2, 3)\n",
    "v2 = Vector(4, 5)\n",
    "print(v1 + v2)\n"
   ]
  },
  {
   "cell_type": "code",
   "execution_count": 31,
   "id": "e5937368-4bc5-4153-a364-5adc0e91e868",
   "metadata": {},
   "outputs": [
    {
     "name": "stdout",
     "output_type": "stream",
     "text": [
      "Hello, my name is John and I am 30 years old.\n"
     ]
    }
   ],
   "source": [
    "#11 \n",
    "\n",
    "class Person:\n",
    "    def __init__(self, name, age):\n",
    "        self.name = name\n",
    "        self.age = age\n",
    "\n",
    "    def greet(self):\n",
    "        print(f\"Hello, my name is {self.name} and I am {self.age} years old.\")\n",
    "\n",
    "p = Person(\"John\", 30)\n",
    "p.greet()\n"
   ]
  },
  {
   "cell_type": "code",
   "execution_count": 35,
   "id": "c5abd219-54d3-4f5f-b132-18d13a0f1556",
   "metadata": {},
   "outputs": [
    {
     "name": "stdout",
     "output_type": "stream",
     "text": [
      "Average Grade: 84.33333333333333\n"
     ]
    }
   ],
   "source": [
    "#12 \n",
    "\n",
    "class Student:\n",
    "    def __init__(self, name, grades):\n",
    "        self.name = name\n",
    "        self.grades = grades\n",
    "\n",
    "    def average_grade(self):\n",
    "        return sum(self.grades) / len(self.grades)\n",
    "\n",
    "s = Student(\"Alice\", [85, 90, 78])\n",
    "print(\"Average Grade:\", s.average_grade())\n"
   ]
  },
  {
   "cell_type": "code",
   "execution_count": 37,
   "id": "12ecde98-ded6-4e39-8b1b-5acac4520602",
   "metadata": {},
   "outputs": [
    {
     "name": "stdout",
     "output_type": "stream",
     "text": [
      "Area: 30\n"
     ]
    }
   ],
   "source": [
    "#13 \n",
    "\n",
    "class Rectangle:\n",
    "    def set_dimensions(self, width, height):\n",
    "        self.width = width\n",
    "        self.height = height\n",
    "\n",
    "    def area(self):\n",
    "        return self.width * self.height\n",
    "\n",
    "rect = Rectangle()\n",
    "rect.set_dimensions(5, 6)\n",
    "print(\"Area:\", rect.area())\n"
   ]
  },
  {
   "cell_type": "code",
   "execution_count": 39,
   "id": "ff234bea-7869-47ed-a818-475e2a2cfbf5",
   "metadata": {},
   "outputs": [
    {
     "name": "stdout",
     "output_type": "stream",
     "text": [
      "Manager Salary: 2500\n"
     ]
    }
   ],
   "source": [
    "#14 \n",
    "\n",
    "class Employee:\n",
    "    def calculate_salary(self, hours, rate):\n",
    "        return hours * rate\n",
    "\n",
    "class Manager(Employee):\n",
    "    def calculate_salary(self, hours, rate, bonus=0):\n",
    "        return super().calculate_salary(hours, rate) + bonus\n",
    "\n",
    "m = Manager()\n",
    "print(\"Manager Salary:\", m.calculate_salary(40, 50, 500))\n"
   ]
  },
  {
   "cell_type": "code",
   "execution_count": 41,
   "id": "538638cc-ef71-4c90-a047-8c196c92b386",
   "metadata": {},
   "outputs": [
    {
     "name": "stdout",
     "output_type": "stream",
     "text": [
      "Total Price: 2000\n"
     ]
    }
   ],
   "source": [
    "#15 \n",
    "\n",
    "class Product:\n",
    "    def __init__(self, name, price, quantity):\n",
    "        self.name = name\n",
    "        self.price = price\n",
    "        self.quantity = quantity\n",
    "\n",
    "    def total_price(self):\n",
    "        return self.price * self.quantity\n",
    "\n",
    "p = Product(\"Laptop\", 1000, 2)\n",
    "print(\"Total Price:\", p.total_price())\n"
   ]
  },
  {
   "cell_type": "code",
   "execution_count": 43,
   "id": "fa373c7a-f497-487b-90b2-9b6b451ba0e6",
   "metadata": {},
   "outputs": [
    {
     "name": "stdout",
     "output_type": "stream",
     "text": [
      "Moo\n",
      "Baa\n"
     ]
    }
   ],
   "source": [
    "#16 \n",
    "\n",
    "from abc import ABC, abstractmethod\n",
    "\n",
    "class Animal(ABC):\n",
    "    @abstractmethod\n",
    "    def sound(self):\n",
    "        pass\n",
    "\n",
    "class Cow(Animal):\n",
    "    def sound(self):\n",
    "        print(\"Moo\")\n",
    "\n",
    "class Sheep(Animal):\n",
    "    def sound(self):\n",
    "        print(\"Baa\")\n",
    "\n",
    "animals = [Cow(), Sheep()]\n",
    "for a in animals:\n",
    "    a.sound()\n"
   ]
  },
  {
   "cell_type": "code",
   "execution_count": 45,
   "id": "e60fd1a9-cffa-42b8-a898-0d0795aa23b0",
   "metadata": {},
   "outputs": [
    {
     "name": "stdout",
     "output_type": "stream",
     "text": [
      "'1984' by George Orwell, published in 1949\n"
     ]
    }
   ],
   "source": [
    "#17\n",
    "\n",
    "class Book:\n",
    "    def __init__(self, title, author, year):\n",
    "        self.title = title\n",
    "        self.author = author\n",
    "        self.year = year\n",
    "\n",
    "    def get_book_info(self):\n",
    "        return f\"'{self.title}' by {self.author}, published in {self.year}\"\n",
    "\n",
    "b = Book(\"1984\", \"George Orwell\", 1949)\n",
    "print(b.get_book_info())\n"
   ]
  },
  {
   "cell_type": "code",
   "execution_count": 47,
   "id": "53b13325-d5d7-4772-b9ff-6675abffebea",
   "metadata": {},
   "outputs": [
    {
     "name": "stdout",
     "output_type": "stream",
     "text": [
      "123 Luxury St 5000000 10\n"
     ]
    }
   ],
   "source": [
    "#18\n",
    "\n",
    "class House:\n",
    "    def __init__(self, address, price):\n",
    "        self.address = address\n",
    "        self.price = price\n",
    "\n",
    "class Mansion(House):\n",
    "    def __init__(self, address, price, rooms):\n",
    "        super().__init__(address, price)\n",
    "        self.number_of_rooms = rooms\n",
    "\n",
    "m = Mansion(\"123 Luxury St\", 5000000, 10)\n",
    "print(m.address, m.price, m.number_of_rooms)\n"
   ]
  },
  {
   "cell_type": "code",
   "execution_count": null,
   "id": "41c94e90-ccd7-40fe-9ec1-ec7cd2a823a0",
   "metadata": {},
   "outputs": [],
   "source": []
  }
 ],
 "metadata": {
  "kernelspec": {
   "display_name": "Python [conda env:base] *",
   "language": "python",
   "name": "conda-base-py"
  },
  "language_info": {
   "codemirror_mode": {
    "name": "ipython",
    "version": 3
   },
   "file_extension": ".py",
   "mimetype": "text/x-python",
   "name": "python",
   "nbconvert_exporter": "python",
   "pygments_lexer": "ipython3",
   "version": "3.12.7"
  }
 },
 "nbformat": 4,
 "nbformat_minor": 5
}
